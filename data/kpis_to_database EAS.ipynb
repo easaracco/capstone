{
  "cells": [
    {
      "attachments": {},
      "cell_type": "markdown",
      "metadata": {
        "id": "nHjiXchaXaDE"
      },
      "source": [
        "# Capstone project\n",
        "## Assignment B1 Database to cloud\n",
        "### Edgardo Alvarez"
      ]
    },
    {
      "cell_type": "markdown",
      "metadata": {
        "id": "SvjoVJVtUKD7"
      },
      "source": [
        "### MANAGING THE DATABASE ACCESS"
      ]
    },
    {
      "cell_type": "markdown",
      "metadata": {
        "id": "zewWERAQUSp2"
      },
      "source": [
        "Download the pymysql library to manage the mysql database"
      ]
    },
    {
      "cell_type": "code",
      "execution_count": 1,
      "metadata": {
        "colab": {
          "base_uri": "https://localhost:8080/"
        },
        "id": "1_t58p_VUSQ2",
        "outputId": "9872aa90-e27f-4c8e-c6a8-3a538a30b7ec"
      },
      "outputs": [
        {
          "name": "stdout",
          "output_type": "stream",
          "text": [
            "Requirement already satisfied: pymysql in c:\\users\\dedga\\anaconda3\\lib\\site-packages (1.0.2)\n"
          ]
        }
      ],
      "source": [
        "!pip install pymysql"
      ]
    },
    {
      "cell_type": "markdown",
      "metadata": {
        "id": "tSJmqbIIUhSR"
      },
      "source": [
        "Importing the needed libraries"
      ]
    },
    {
      "cell_type": "code",
      "execution_count": 2,
      "metadata": {
        "id": "z3xuaCnLUkdD"
      },
      "outputs": [],
      "source": [
        "import os\n",
        "import sqlalchemy\n",
        "SQLALCHEMY_SILENCE_UBER_WARNING = 1\n",
        "SQLALCHEMY_WARN_20 = 0\n",
        "import pandas as pd\n",
        "import datetime\n",
        "import seaborn as sns"
      ]
    },
    {
      "cell_type": "markdown",
      "metadata": {
        "id": "NPO91f5FUyGF"
      },
      "source": [
        "Give value to all the variables to access to mysql database"
      ]
    },
    {
      "cell_type": "code",
      "execution_count": 3,
      "metadata": {
        "id": "F4JTntOlUxdR"
      },
      "outputs": [],
      "source": [
        "db_host = '34.175.175.68'  # e.g. '127.0.0.1' ('172.17.0.1' if deployed to GAE Flex)\n",
        "db_user = 'root' # e.g. 'my-db-user'\n",
        "db_pass = 'MCSbt2023'  # e.g. 'my-db-password'\n",
        "db_name = 'HyM' # e.g. 'my-database'\n",
        "db_port = 3306  # e.g. 3306"
      ]
    },
    {
      "cell_type": "markdown",
      "metadata": {
        "id": "NFPv9jtBUoWz"
      },
      "source": [
        "Declare the function to connect to database"
      ]
    },
    {
      "cell_type": "code",
      "execution_count": 4,
      "metadata": {
        "id": "kmvbFSe2U53x"
      },
      "outputs": [],
      "source": [
        "def connect_tcp_socket(\n",
        "    db_host, db_user, db_pass, db_name, db_port = 3306\n",
        "    ) -> sqlalchemy.engine.base.Engine:\n",
        "    \"\"\" Initializes a TCP connection pool for a Cloud SQL instance of MySQL. \"\"\"\n",
        "\n",
        "    engine = sqlalchemy.create_engine(\n",
        "        sqlalchemy.engine.url.URL.create(\n",
        "            drivername=\"mysql+pymysql\",\n",
        "            username=db_user,\n",
        "            password=db_pass,\n",
        "            host=db_host,\n",
        "            port=db_port,\n",
        "            database=db_name,\n",
        "        ),\n",
        "    )\n",
        "    return engine"
      ]
    },
    {
      "cell_type": "markdown",
      "metadata": {
        "id": "MeKlYFtrW5nu"
      },
      "source": [
        "Connect to the database via the above function"
      ]
    },
    {
      "cell_type": "code",
      "execution_count": 5,
      "metadata": {
        "id": "BOuO73RJWwZg"
      },
      "outputs": [],
      "source": [
        "engine = connect_tcp_socket(db_host, db_user, db_pass, db_name, db_port)\n",
        "conn = engine.connect()"
      ]
    },
    {
      "cell_type": "code",
      "execution_count": 6,
      "metadata": {
        "colab": {
          "base_uri": "https://localhost:8080/"
        },
        "id": "AJT6UMjNbuJr",
        "outputId": "a0103436-8864-48fd-b469-f8a57f040038"
      },
      "outputs": [
        {
          "name": "stdout",
          "output_type": "stream",
          "text": [
            "<sqlalchemy.engine.base.Connection object at 0x0000023FAD6F53D0>\n"
          ]
        }
      ],
      "source": [
        "print(conn)"
      ]
    },
    {
      "cell_type": "markdown",
      "metadata": {
        "id": "Gz6WgEdEbzPq"
      },
      "source": [
        "Show tables already inserted in the DATABASE"
      ]
    },
    {
      "cell_type": "code",
      "execution_count": 7,
      "metadata": {
        "colab": {
          "base_uri": "https://localhost:8080/"
        },
        "id": "aCCJB_4iXF2G",
        "outputId": "4f552877-732c-4572-a7fb-44547e48b6b4"
      },
      "outputs": [
        {
          "name": "stdout",
          "output_type": "stream",
          "text": [
            "('KPI',)\n",
            "('KPI_age',)\n",
            "('KPI_date',)\n",
            "('KPI_product_group',)\n",
            "('KPI_saleschannel',)\n",
            "('articles',)\n",
            "('customers',)\n",
            "('transactions',)\n"
          ]
        }
      ],
      "source": [
        "result = conn.execute(\"SHOW TABLES;\").fetchall()\n",
        "for r in result:\n",
        "    print(r)\n",
        "if not result:\n",
        "  print(\"No tables in the DATABASE\")"
      ]
    },
    {
      "cell_type": "markdown",
      "metadata": {
        "id": "2VVCxHkVcoTm"
      },
      "source": [
        "### LOADING THE DATA"
      ]
    },
    {
      "cell_type": "markdown",
      "metadata": {
        "id": "ATBjv3gBXukk"
      },
      "source": [
        "Importing the needed libraries"
      ]
    },
    {
      "cell_type": "markdown",
      "metadata": {
        "id": "C8p_zKzQX3Up"
      },
      "source": [
        "Creating a function to remove all the unnamed columns in the datasets."
      ]
    },
    {
      "cell_type": "code",
      "execution_count": 8,
      "metadata": {
        "id": "sJHKJrKonC6A"
      },
      "outputs": [],
      "source": [
        "def remove_unnamed_cols(df):\n",
        "  df = df.loc[:, ~df.columns.str.contains('^Unnamed')]\n",
        "  return df"
      ]
    },
    {
      "cell_type": "markdown",
      "metadata": {
        "id": "Xa8-pauoYBh4"
      },
      "source": [
        "Creating a function to load the data directly from GOOGLE DRIVE."
      ]
    },
    {
      "cell_type": "code",
      "execution_count": 10,
      "metadata": {
        "id": "R-tSOlzZowEX"
      },
      "outputs": [],
      "source": [
        "def load_csv_from_drive(drive_url):\n",
        "    url='https://drive.google.com/uc?id=' + drive_url.split('/')[-2]\n",
        "    df = remove_unnamed_cols(pd.read_csv(url))\n",
        "    return df"
      ]
    },
    {
      "attachments": {},
      "cell_type": "markdown",
      "metadata": {
        "id": "nVJOi5fmYIlt"
      },
      "source": [
        "Loading the Articles data to pandas dataframe."
      ]
    },
    {
      "cell_type": "code",
      "execution_count": 11,
      "metadata": {
        "id": "pde0fZdEmC1T"
      },
      "outputs": [],
      "source": [
        "articles_drive_url = 'https://drive.google.com/file/d/1N9lK6lv_AgMIGvX3jFHcHLAWjRgIA9iF/view?usp=share_link'\n",
        "articles_df = load_csv_from_drive(articles_drive_url)"
      ]
    },
    {
      "cell_type": "markdown",
      "metadata": {
        "id": "XyfseEaaYO8v"
      },
      "source": [
        "Showing a sample of data to validate the columns."
      ]
    },
    {
      "cell_type": "code",
      "execution_count": 12,
      "metadata": {
        "colab": {
          "base_uri": "https://localhost:8080/",
          "height": 175
        },
        "id": "J9pMk8pjmaWM",
        "outputId": "9774800e-97d3-4c39-9e62-6802d5d1892c"
      },
      "outputs": [
        {
          "data": {
            "text/html": [
              "<div>\n",
              "<style scoped>\n",
              "    .dataframe tbody tr th:only-of-type {\n",
              "        vertical-align: middle;\n",
              "    }\n",
              "\n",
              "    .dataframe tbody tr th {\n",
              "        vertical-align: top;\n",
              "    }\n",
              "\n",
              "    .dataframe thead th {\n",
              "        text-align: right;\n",
              "    }\n",
              "</style>\n",
              "<table border=\"1\" class=\"dataframe\">\n",
              "  <thead>\n",
              "    <tr style=\"text-align: right;\">\n",
              "      <th></th>\n",
              "      <th>article_id</th>\n",
              "      <th>product_code</th>\n",
              "      <th>prod_name</th>\n",
              "      <th>product_type_no</th>\n",
              "      <th>product_type_name</th>\n",
              "      <th>product_group_name</th>\n",
              "      <th>graphical_appearance_no</th>\n",
              "      <th>graphical_appearance_name</th>\n",
              "      <th>colour_group_code</th>\n",
              "      <th>colour_group_name</th>\n",
              "      <th>...</th>\n",
              "      <th>department_name</th>\n",
              "      <th>index_code</th>\n",
              "      <th>index_name</th>\n",
              "      <th>index_group_no</th>\n",
              "      <th>index_group_name</th>\n",
              "      <th>section_no</th>\n",
              "      <th>section_name</th>\n",
              "      <th>garment_group_no</th>\n",
              "      <th>garment_group_name</th>\n",
              "      <th>detail_desc</th>\n",
              "    </tr>\n",
              "  </thead>\n",
              "  <tbody>\n",
              "    <tr>\n",
              "      <th>0</th>\n",
              "      <td>108775015</td>\n",
              "      <td>108775</td>\n",
              "      <td>Strap top</td>\n",
              "      <td>253</td>\n",
              "      <td>Vest top</td>\n",
              "      <td>Garment Upper body</td>\n",
              "      <td>1010016</td>\n",
              "      <td>Solid</td>\n",
              "      <td>9</td>\n",
              "      <td>Black</td>\n",
              "      <td>...</td>\n",
              "      <td>Jersey Basic</td>\n",
              "      <td>A</td>\n",
              "      <td>Ladieswear</td>\n",
              "      <td>1</td>\n",
              "      <td>Ladieswear</td>\n",
              "      <td>16</td>\n",
              "      <td>Womens Everyday Basics</td>\n",
              "      <td>1002</td>\n",
              "      <td>Jersey Basic</td>\n",
              "      <td>Jersey top with narrow shoulder straps.</td>\n",
              "    </tr>\n",
              "    <tr>\n",
              "      <th>1</th>\n",
              "      <td>108775044</td>\n",
              "      <td>108775</td>\n",
              "      <td>Strap top</td>\n",
              "      <td>253</td>\n",
              "      <td>Vest top</td>\n",
              "      <td>Garment Upper body</td>\n",
              "      <td>1010016</td>\n",
              "      <td>Solid</td>\n",
              "      <td>10</td>\n",
              "      <td>White</td>\n",
              "      <td>...</td>\n",
              "      <td>Jersey Basic</td>\n",
              "      <td>A</td>\n",
              "      <td>Ladieswear</td>\n",
              "      <td>1</td>\n",
              "      <td>Ladieswear</td>\n",
              "      <td>16</td>\n",
              "      <td>Womens Everyday Basics</td>\n",
              "      <td>1002</td>\n",
              "      <td>Jersey Basic</td>\n",
              "      <td>Jersey top with narrow shoulder straps.</td>\n",
              "    </tr>\n",
              "    <tr>\n",
              "      <th>2</th>\n",
              "      <td>108775051</td>\n",
              "      <td>108775</td>\n",
              "      <td>Strap top (1)</td>\n",
              "      <td>253</td>\n",
              "      <td>Vest top</td>\n",
              "      <td>Garment Upper body</td>\n",
              "      <td>1010017</td>\n",
              "      <td>Stripe</td>\n",
              "      <td>11</td>\n",
              "      <td>Off White</td>\n",
              "      <td>...</td>\n",
              "      <td>Jersey Basic</td>\n",
              "      <td>A</td>\n",
              "      <td>Ladieswear</td>\n",
              "      <td>1</td>\n",
              "      <td>Ladieswear</td>\n",
              "      <td>16</td>\n",
              "      <td>Womens Everyday Basics</td>\n",
              "      <td>1002</td>\n",
              "      <td>Jersey Basic</td>\n",
              "      <td>Jersey top with narrow shoulder straps.</td>\n",
              "    </tr>\n",
              "    <tr>\n",
              "      <th>3</th>\n",
              "      <td>110065001</td>\n",
              "      <td>110065</td>\n",
              "      <td>OP T-shirt (Idro)</td>\n",
              "      <td>306</td>\n",
              "      <td>Bra</td>\n",
              "      <td>Underwear</td>\n",
              "      <td>1010016</td>\n",
              "      <td>Solid</td>\n",
              "      <td>9</td>\n",
              "      <td>Black</td>\n",
              "      <td>...</td>\n",
              "      <td>Clean Lingerie</td>\n",
              "      <td>B</td>\n",
              "      <td>Lingeries/Tights</td>\n",
              "      <td>1</td>\n",
              "      <td>Ladieswear</td>\n",
              "      <td>61</td>\n",
              "      <td>Womens Lingerie</td>\n",
              "      <td>1017</td>\n",
              "      <td>Under-, Nightwear</td>\n",
              "      <td>Microfibre T-shirt bra with underwired, moulde...</td>\n",
              "    </tr>\n",
              "  </tbody>\n",
              "</table>\n",
              "<p>4 rows × 25 columns</p>\n",
              "</div>"
            ],
            "text/plain": [
              "   article_id  product_code          prod_name  product_type_no  \\\n",
              "0   108775015        108775          Strap top              253   \n",
              "1   108775044        108775          Strap top              253   \n",
              "2   108775051        108775      Strap top (1)              253   \n",
              "3   110065001        110065  OP T-shirt (Idro)              306   \n",
              "\n",
              "  product_type_name  product_group_name  graphical_appearance_no  \\\n",
              "0          Vest top  Garment Upper body                  1010016   \n",
              "1          Vest top  Garment Upper body                  1010016   \n",
              "2          Vest top  Garment Upper body                  1010017   \n",
              "3               Bra           Underwear                  1010016   \n",
              "\n",
              "  graphical_appearance_name  colour_group_code colour_group_name  ...  \\\n",
              "0                     Solid                  9             Black  ...   \n",
              "1                     Solid                 10             White  ...   \n",
              "2                    Stripe                 11         Off White  ...   \n",
              "3                     Solid                  9             Black  ...   \n",
              "\n",
              "   department_name index_code        index_name index_group_no  \\\n",
              "0     Jersey Basic          A        Ladieswear              1   \n",
              "1     Jersey Basic          A        Ladieswear              1   \n",
              "2     Jersey Basic          A        Ladieswear              1   \n",
              "3   Clean Lingerie          B  Lingeries/Tights              1   \n",
              "\n",
              "   index_group_name section_no            section_name garment_group_no  \\\n",
              "0        Ladieswear         16  Womens Everyday Basics             1002   \n",
              "1        Ladieswear         16  Womens Everyday Basics             1002   \n",
              "2        Ladieswear         16  Womens Everyday Basics             1002   \n",
              "3        Ladieswear         61         Womens Lingerie             1017   \n",
              "\n",
              "   garment_group_name                                        detail_desc  \n",
              "0        Jersey Basic            Jersey top with narrow shoulder straps.  \n",
              "1        Jersey Basic            Jersey top with narrow shoulder straps.  \n",
              "2        Jersey Basic            Jersey top with narrow shoulder straps.  \n",
              "3   Under-, Nightwear  Microfibre T-shirt bra with underwired, moulde...  \n",
              "\n",
              "[4 rows x 25 columns]"
            ]
          },
          "execution_count": 12,
          "metadata": {},
          "output_type": "execute_result"
        }
      ],
      "source": [
        "articles_df.head(4)"
      ]
    },
    {
      "cell_type": "markdown",
      "metadata": {
        "id": "s3Xdn2DMYXbS"
      },
      "source": [
        "Applying **info** function to the dataframe to show types of the columns and the NULL values."
      ]
    },
    {
      "cell_type": "code",
      "execution_count": 38,
      "metadata": {
        "colab": {
          "base_uri": "https://localhost:8080/"
        },
        "id": "Z2NB4JKEoGZ-",
        "outputId": "22fc5d9b-cf2d-4e76-a0d4-4c528eb406c8"
      },
      "outputs": [
        {
          "name": "stdout",
          "output_type": "stream",
          "text": [
            "<class 'pandas.core.frame.DataFrame'>\n",
            "RangeIndex: 105542 entries, 0 to 105541\n",
            "Data columns (total 25 columns):\n",
            " #   Column                        Non-Null Count   Dtype \n",
            "---  ------                        --------------   ----- \n",
            " 0   article_id                    105542 non-null  int64 \n",
            " 1   product_code                  105542 non-null  int64 \n",
            " 2   prod_name                     105542 non-null  object\n",
            " 3   product_type_no               105542 non-null  int64 \n",
            " 4   product_type_name             105542 non-null  object\n",
            " 5   product_group_name            105542 non-null  object\n",
            " 6   graphical_appearance_no       105542 non-null  int64 \n",
            " 7   graphical_appearance_name     105542 non-null  object\n",
            " 8   colour_group_code             105542 non-null  int64 \n",
            " 9   colour_group_name             105542 non-null  object\n",
            " 10  perceived_colour_value_id     105542 non-null  int64 \n",
            " 11  perceived_colour_value_name   105542 non-null  object\n",
            " 12  perceived_colour_master_id    105542 non-null  int64 \n",
            " 13  perceived_colour_master_name  105542 non-null  object\n",
            " 14  department_no                 105542 non-null  int64 \n",
            " 15  department_name               105542 non-null  object\n",
            " 16  index_code                    105542 non-null  object\n",
            " 17  index_name                    105542 non-null  object\n",
            " 18  index_group_no                105542 non-null  int64 \n",
            " 19  index_group_name              105542 non-null  object\n",
            " 20  section_no                    105542 non-null  int64 \n",
            " 21  section_name                  105542 non-null  object\n",
            " 22  garment_group_no              105542 non-null  int64 \n",
            " 23  garment_group_name            105542 non-null  object\n",
            " 24  detail_desc                   105126 non-null  object\n",
            "dtypes: int64(11), object(14)\n",
            "memory usage: 20.1+ MB\n"
          ]
        }
      ],
      "source": [
        "articles_df.info()"
      ]
    },
    {
      "attachments": {},
      "cell_type": "markdown",
      "metadata": {},
      "source": [
        "Detected that Detail_desc contains null values as it has less count than the others."
      ]
    },
    {
      "cell_type": "code",
      "execution_count": 13,
      "metadata": {},
      "outputs": [],
      "source": [
        "articles_df.fillna(value='no_detail', inplace=True)"
      ]
    },
    {
      "attachments": {},
      "cell_type": "markdown",
      "metadata": {},
      "source": [
        "Double checking that null values were replaced. "
      ]
    },
    {
      "cell_type": "code",
      "execution_count": 14,
      "metadata": {},
      "outputs": [
        {
          "name": "stdout",
          "output_type": "stream",
          "text": [
            "<class 'pandas.core.frame.DataFrame'>\n",
            "RangeIndex: 105542 entries, 0 to 105541\n",
            "Data columns (total 25 columns):\n",
            " #   Column                        Non-Null Count   Dtype \n",
            "---  ------                        --------------   ----- \n",
            " 0   article_id                    105542 non-null  int64 \n",
            " 1   product_code                  105542 non-null  int64 \n",
            " 2   prod_name                     105542 non-null  object\n",
            " 3   product_type_no               105542 non-null  int64 \n",
            " 4   product_type_name             105542 non-null  object\n",
            " 5   product_group_name            105542 non-null  object\n",
            " 6   graphical_appearance_no       105542 non-null  int64 \n",
            " 7   graphical_appearance_name     105542 non-null  object\n",
            " 8   colour_group_code             105542 non-null  int64 \n",
            " 9   colour_group_name             105542 non-null  object\n",
            " 10  perceived_colour_value_id     105542 non-null  int64 \n",
            " 11  perceived_colour_value_name   105542 non-null  object\n",
            " 12  perceived_colour_master_id    105542 non-null  int64 \n",
            " 13  perceived_colour_master_name  105542 non-null  object\n",
            " 14  department_no                 105542 non-null  int64 \n",
            " 15  department_name               105542 non-null  object\n",
            " 16  index_code                    105542 non-null  object\n",
            " 17  index_name                    105542 non-null  object\n",
            " 18  index_group_no                105542 non-null  int64 \n",
            " 19  index_group_name              105542 non-null  object\n",
            " 20  section_no                    105542 non-null  int64 \n",
            " 21  section_name                  105542 non-null  object\n",
            " 22  garment_group_no              105542 non-null  int64 \n",
            " 23  garment_group_name            105542 non-null  object\n",
            " 24  detail_desc                   105542 non-null  object\n",
            "dtypes: int64(11), object(14)\n",
            "memory usage: 20.1+ MB\n"
          ]
        }
      ],
      "source": [
        "articles_df.info()"
      ]
    },
    {
      "cell_type": "markdown",
      "metadata": {
        "id": "VwKSXRx0UAow"
      },
      "source": [
        "Uploading data from dataframe to database"
      ]
    },
    {
      "cell_type": "code",
      "execution_count": 50,
      "metadata": {
        "id": "kYazgTeUT_6t"
      },
      "outputs": [
        {
          "data": {
            "text/plain": [
              "105542"
            ]
          },
          "execution_count": 50,
          "metadata": {},
          "output_type": "execute_result"
        }
      ],
      "source": [
        "articles_df.to_sql(\n",
        "    con = conn, name = \"articles\", if_exists = \"replace\")"
      ]
    },
    {
      "cell_type": "markdown",
      "metadata": {
        "id": "4jWDH5skdrwz"
      },
      "source": [
        "Verifying that the new table is created"
      ]
    },
    {
      "cell_type": "code",
      "execution_count": 51,
      "metadata": {
        "colab": {
          "base_uri": "https://localhost:8080/"
        },
        "id": "CHGHJlKYdp5M",
        "outputId": "741b8e51-de7d-4bf7-d190-46e716373592"
      },
      "outputs": [
        {
          "name": "stdout",
          "output_type": "stream",
          "text": [
            "('articles',)\n",
            "('customer',)\n"
          ]
        }
      ],
      "source": [
        "result = conn.execute(\"SHOW TABLES;\").fetchall()\n",
        "for r in result:\n",
        "    print(r)\n",
        "if not result:\n",
        "  print(\"No tables in the DATABASE\")"
      ]
    },
    {
      "attachments": {},
      "cell_type": "markdown",
      "metadata": {
        "id": "BK5UjSomYlXO"
      },
      "source": [
        "Loading the Customers data to dataframe."
      ]
    },
    {
      "attachments": {},
      "cell_type": "markdown",
      "metadata": {},
      "source": [
        "Because the CSV file is too big to be pulled from google drive it has to be downloaded previously from the following URL: https://drive.google.com/file/d/16s7veu_B0B2PpFkR9JGQssNEu93FcFEB/view?usp=share_link\n",
        "\n",
        "It also has to be stored in the same folder as this file to be pulled properly.\n",
        "\n",
        "Unlike Articles database, Customer database is separated by ;, we need to specify this in order for pandas to separate the DF properly. "
      ]
    },
    {
      "cell_type": "code",
      "execution_count": 15,
      "metadata": {},
      "outputs": [],
      "source": [
        "customer_df=remove_unnamed_cols(pd.read_csv('customers.csv',sep=';'))"
      ]
    },
    {
      "cell_type": "markdown",
      "metadata": {
        "id": "fKCwLxClYw8_"
      },
      "source": [
        "Showing a sample of data to validate the columns."
      ]
    },
    {
      "cell_type": "code",
      "execution_count": 16,
      "metadata": {
        "colab": {
          "base_uri": "https://localhost:8080/",
          "height": 112
        },
        "id": "8UKYL8EOnusg",
        "outputId": "18ae86cc-55a6-45d9-ed44-07900ee489c0"
      },
      "outputs": [
        {
          "data": {
            "text/html": [
              "<div>\n",
              "<style scoped>\n",
              "    .dataframe tbody tr th:only-of-type {\n",
              "        vertical-align: middle;\n",
              "    }\n",
              "\n",
              "    .dataframe tbody tr th {\n",
              "        vertical-align: top;\n",
              "    }\n",
              "\n",
              "    .dataframe thead th {\n",
              "        text-align: right;\n",
              "    }\n",
              "</style>\n",
              "<table border=\"1\" class=\"dataframe\">\n",
              "  <thead>\n",
              "    <tr style=\"text-align: right;\">\n",
              "      <th></th>\n",
              "      <th>customer_id</th>\n",
              "      <th>FN</th>\n",
              "      <th>Active</th>\n",
              "      <th>club_member_status</th>\n",
              "      <th>fashion_news_frequency</th>\n",
              "      <th>age</th>\n",
              "      <th>postal_code</th>\n",
              "    </tr>\n",
              "  </thead>\n",
              "  <tbody>\n",
              "    <tr>\n",
              "      <th>0</th>\n",
              "      <td>00000dbacae5abe5e23885899a1fa44253a17956c6d1c3...</td>\n",
              "      <td>NaN</td>\n",
              "      <td>NaN</td>\n",
              "      <td>ACTIVE</td>\n",
              "      <td>NONE</td>\n",
              "      <td>49.0</td>\n",
              "      <td>52043ee2162cf5aa7ee79974281641c6f11a68d276429a...</td>\n",
              "    </tr>\n",
              "    <tr>\n",
              "      <th>1</th>\n",
              "      <td>0000423b00ade91418cceaf3b26c6af3dd342b51fd051e...</td>\n",
              "      <td>NaN</td>\n",
              "      <td>NaN</td>\n",
              "      <td>ACTIVE</td>\n",
              "      <td>NONE</td>\n",
              "      <td>25.0</td>\n",
              "      <td>2973abc54daa8a5f8ccfe9362140c63247c5eee03f1d93...</td>\n",
              "    </tr>\n",
              "  </tbody>\n",
              "</table>\n",
              "</div>"
            ],
            "text/plain": [
              "                                         customer_id  FN  Active  \\\n",
              "0  00000dbacae5abe5e23885899a1fa44253a17956c6d1c3... NaN     NaN   \n",
              "1  0000423b00ade91418cceaf3b26c6af3dd342b51fd051e... NaN     NaN   \n",
              "\n",
              "  club_member_status fashion_news_frequency   age  \\\n",
              "0             ACTIVE                   NONE  49.0   \n",
              "1             ACTIVE                   NONE  25.0   \n",
              "\n",
              "                                         postal_code  \n",
              "0  52043ee2162cf5aa7ee79974281641c6f11a68d276429a...  \n",
              "1  2973abc54daa8a5f8ccfe9362140c63247c5eee03f1d93...  "
            ]
          },
          "execution_count": 16,
          "metadata": {},
          "output_type": "execute_result"
        }
      ],
      "source": [
        "customer_df.head(2)"
      ]
    },
    {
      "cell_type": "markdown",
      "metadata": {
        "id": "8ZQyuLC4Y5i3"
      },
      "source": [
        "Applying **info** function to the dataframe to show types of the columns and the NULL values."
      ]
    },
    {
      "cell_type": "code",
      "execution_count": 17,
      "metadata": {
        "colab": {
          "base_uri": "https://localhost:8080/"
        },
        "id": "LQhfSToPnxdn",
        "outputId": "2092d7e5-d810-48a4-e704-1160ac13f842"
      },
      "outputs": [
        {
          "name": "stdout",
          "output_type": "stream",
          "text": [
            "<class 'pandas.core.frame.DataFrame'>\n",
            "RangeIndex: 1048575 entries, 0 to 1048574\n",
            "Data columns (total 7 columns):\n",
            " #   Column                  Non-Null Count    Dtype  \n",
            "---  ------                  --------------    -----  \n",
            " 0   customer_id             1048575 non-null  object \n",
            " 1   FN                      364896 non-null   float64\n",
            " 2   Active                  355236 non-null   float64\n",
            " 3   club_member_status      1043971 non-null  object \n",
            " 4   fashion_news_frequency  1036271 non-null  object \n",
            " 5   age                     1036455 non-null  float64\n",
            " 6   postal_code             1048575 non-null  object \n",
            "dtypes: float64(3), object(4)\n",
            "memory usage: 56.0+ MB\n"
          ]
        }
      ],
      "source": [
        "customer_df.info()"
      ]
    },
    {
      "cell_type": "code",
      "execution_count": 18,
      "metadata": {},
      "outputs": [],
      "source": [
        "customerclean_df=customer_df.dropna(inplace=False)"
      ]
    },
    {
      "cell_type": "code",
      "execution_count": 19,
      "metadata": {},
      "outputs": [
        {
          "name": "stdout",
          "output_type": "stream",
          "text": [
            "<class 'pandas.core.frame.DataFrame'>\n",
            "Int64Index: 354072 entries, 4 to 1048568\n",
            "Data columns (total 7 columns):\n",
            " #   Column                  Non-Null Count   Dtype  \n",
            "---  ------                  --------------   -----  \n",
            " 0   customer_id             354072 non-null  object \n",
            " 1   FN                      354072 non-null  float64\n",
            " 2   Active                  354072 non-null  float64\n",
            " 3   club_member_status      354072 non-null  object \n",
            " 4   fashion_news_frequency  354072 non-null  object \n",
            " 5   age                     354072 non-null  float64\n",
            " 6   postal_code             354072 non-null  object \n",
            "dtypes: float64(3), object(4)\n",
            "memory usage: 21.6+ MB\n"
          ]
        }
      ],
      "source": [
        "customerclean_df.info()"
      ]
    },
    {
      "attachments": {},
      "cell_type": "markdown",
      "metadata": {},
      "source": [
        "Changed age to Integer"
      ]
    },
    {
      "cell_type": "code",
      "execution_count": 20,
      "metadata": {},
      "outputs": [],
      "source": [
        "customerclean_df=customerclean_df.astype({'age':'int'})"
      ]
    },
    {
      "cell_type": "code",
      "execution_count": 21,
      "metadata": {},
      "outputs": [
        {
          "data": {
            "text/html": [
              "<div>\n",
              "<style scoped>\n",
              "    .dataframe tbody tr th:only-of-type {\n",
              "        vertical-align: middle;\n",
              "    }\n",
              "\n",
              "    .dataframe tbody tr th {\n",
              "        vertical-align: top;\n",
              "    }\n",
              "\n",
              "    .dataframe thead th {\n",
              "        text-align: right;\n",
              "    }\n",
              "</style>\n",
              "<table border=\"1\" class=\"dataframe\">\n",
              "  <thead>\n",
              "    <tr style=\"text-align: right;\">\n",
              "      <th></th>\n",
              "      <th>customer_id</th>\n",
              "      <th>FN</th>\n",
              "      <th>Active</th>\n",
              "      <th>club_member_status</th>\n",
              "      <th>fashion_news_frequency</th>\n",
              "      <th>age</th>\n",
              "      <th>postal_code</th>\n",
              "    </tr>\n",
              "  </thead>\n",
              "  <tbody>\n",
              "    <tr>\n",
              "      <th>4</th>\n",
              "      <td>00006413d8573cd20ed7128e53b7b13819fe5cfc2d801f...</td>\n",
              "      <td>1.0</td>\n",
              "      <td>1.0</td>\n",
              "      <td>ACTIVE</td>\n",
              "      <td>Regularly</td>\n",
              "      <td>52</td>\n",
              "      <td>25fa5ddee9aac01b35208d01736e57942317d756b32ddd...</td>\n",
              "    </tr>\n",
              "    <tr>\n",
              "      <th>7</th>\n",
              "      <td>00007d2de826758b65a93dd24ce629ed66842531df6699...</td>\n",
              "      <td>1.0</td>\n",
              "      <td>1.0</td>\n",
              "      <td>ACTIVE</td>\n",
              "      <td>Regularly</td>\n",
              "      <td>32</td>\n",
              "      <td>8d6f45050876d059c830a0fe63f1a4c022de279bb68ce3...</td>\n",
              "    </tr>\n",
              "    <tr>\n",
              "      <th>13</th>\n",
              "      <td>00009d946eec3ea54add5ba56d5210ea898def4b46c685...</td>\n",
              "      <td>1.0</td>\n",
              "      <td>1.0</td>\n",
              "      <td>ACTIVE</td>\n",
              "      <td>Regularly</td>\n",
              "      <td>56</td>\n",
              "      <td>b31984b20a8c478de38eaf113c581ff64e63c4242e607b...</td>\n",
              "    </tr>\n",
              "    <tr>\n",
              "      <th>14</th>\n",
              "      <td>0000ae1bbb25e04bdc7e35f718e852adfb3fbb72ef38b3...</td>\n",
              "      <td>1.0</td>\n",
              "      <td>1.0</td>\n",
              "      <td>ACTIVE</td>\n",
              "      <td>Regularly</td>\n",
              "      <td>29</td>\n",
              "      <td>2c29ae653a9282cce4151bd87643c907644e09541abc28...</td>\n",
              "    </tr>\n",
              "    <tr>\n",
              "      <th>15</th>\n",
              "      <td>0000b2f1829e23b24feec422ef13df3ccedaedc85368e6...</td>\n",
              "      <td>1.0</td>\n",
              "      <td>1.0</td>\n",
              "      <td>ACTIVE</td>\n",
              "      <td>Regularly</td>\n",
              "      <td>54</td>\n",
              "      <td>ca8ca81e8b5794992144273b0eada83a7e09ec728c1093...</td>\n",
              "    </tr>\n",
              "  </tbody>\n",
              "</table>\n",
              "</div>"
            ],
            "text/plain": [
              "                                          customer_id   FN  Active  \\\n",
              "4   00006413d8573cd20ed7128e53b7b13819fe5cfc2d801f...  1.0     1.0   \n",
              "7   00007d2de826758b65a93dd24ce629ed66842531df6699...  1.0     1.0   \n",
              "13  00009d946eec3ea54add5ba56d5210ea898def4b46c685...  1.0     1.0   \n",
              "14  0000ae1bbb25e04bdc7e35f718e852adfb3fbb72ef38b3...  1.0     1.0   \n",
              "15  0000b2f1829e23b24feec422ef13df3ccedaedc85368e6...  1.0     1.0   \n",
              "\n",
              "   club_member_status fashion_news_frequency  age  \\\n",
              "4              ACTIVE              Regularly   52   \n",
              "7              ACTIVE              Regularly   32   \n",
              "13             ACTIVE              Regularly   56   \n",
              "14             ACTIVE              Regularly   29   \n",
              "15             ACTIVE              Regularly   54   \n",
              "\n",
              "                                          postal_code  \n",
              "4   25fa5ddee9aac01b35208d01736e57942317d756b32ddd...  \n",
              "7   8d6f45050876d059c830a0fe63f1a4c022de279bb68ce3...  \n",
              "13  b31984b20a8c478de38eaf113c581ff64e63c4242e607b...  \n",
              "14  2c29ae653a9282cce4151bd87643c907644e09541abc28...  \n",
              "15  ca8ca81e8b5794992144273b0eada83a7e09ec728c1093...  "
            ]
          },
          "execution_count": 21,
          "metadata": {},
          "output_type": "execute_result"
        }
      ],
      "source": [
        "customerclean_df.head()"
      ]
    },
    {
      "attachments": {},
      "cell_type": "markdown",
      "metadata": {},
      "source": [
        "Uploading to SQL"
      ]
    },
    {
      "cell_type": "code",
      "execution_count": 113,
      "metadata": {},
      "outputs": [],
      "source": [
        "customerclean_df.to_sql(\n",
        "    con = conn, name = \"customers\", if_exists = \"replace\")\n",
        "\n"
      ]
    },
    {
      "cell_type": "code",
      "execution_count": 8,
      "metadata": {},
      "outputs": [
        {
          "name": "stdout",
          "output_type": "stream",
          "text": [
            "('articles',)\n",
            "('customers',)\n"
          ]
        }
      ],
      "source": [
        "result = conn.execute(\"SHOW TABLES;\").fetchall()\n",
        "for r in result:\n",
        "    print(r)\n",
        "if not result:\n",
        "  print(\"No tables in the DATABASE\")\n"
      ]
    },
    {
      "cell_type": "code",
      "execution_count": 19,
      "metadata": {},
      "outputs": [],
      "source": [
        "\n",
        "transactions_drive_url = 'https://drive.google.com/file/d/1lxbPMnJkqLZ9VJg38e7LydcL27XodfnU/view?usp=share_link'\n",
        "transactions_df = load_csv_from_drive(transactions_drive_url)"
      ]
    },
    {
      "cell_type": "code",
      "execution_count": 22,
      "metadata": {},
      "outputs": [],
      "source": [
        "transactions_df=remove_unnamed_cols(pd.read_csv('transactions.csv'))"
      ]
    },
    {
      "cell_type": "code",
      "execution_count": 23,
      "metadata": {},
      "outputs": [
        {
          "data": {
            "text/html": [
              "<div>\n",
              "<style scoped>\n",
              "    .dataframe tbody tr th:only-of-type {\n",
              "        vertical-align: middle;\n",
              "    }\n",
              "\n",
              "    .dataframe tbody tr th {\n",
              "        vertical-align: top;\n",
              "    }\n",
              "\n",
              "    .dataframe thead th {\n",
              "        text-align: right;\n",
              "    }\n",
              "</style>\n",
              "<table border=\"1\" class=\"dataframe\">\n",
              "  <thead>\n",
              "    <tr style=\"text-align: right;\">\n",
              "      <th></th>\n",
              "      <th>t_dat</th>\n",
              "      <th>customer_id</th>\n",
              "      <th>article_id</th>\n",
              "      <th>price</th>\n",
              "      <th>sales_channel_id</th>\n",
              "    </tr>\n",
              "  </thead>\n",
              "  <tbody>\n",
              "    <tr>\n",
              "      <th>0</th>\n",
              "      <td>2018-09-20</td>\n",
              "      <td>000058a12d5b43e67d225668fa1f8d618c13dc232df0ca...</td>\n",
              "      <td>663713001</td>\n",
              "      <td>0.050831</td>\n",
              "      <td>2</td>\n",
              "    </tr>\n",
              "    <tr>\n",
              "      <th>1</th>\n",
              "      <td>2018-09-20</td>\n",
              "      <td>000058a12d5b43e67d225668fa1f8d618c13dc232df0ca...</td>\n",
              "      <td>541518023</td>\n",
              "      <td>0.030492</td>\n",
              "      <td>2</td>\n",
              "    </tr>\n",
              "    <tr>\n",
              "      <th>2</th>\n",
              "      <td>2018-09-20</td>\n",
              "      <td>00007d2de826758b65a93dd24ce629ed66842531df6699...</td>\n",
              "      <td>505221004</td>\n",
              "      <td>0.015237</td>\n",
              "      <td>2</td>\n",
              "    </tr>\n",
              "    <tr>\n",
              "      <th>3</th>\n",
              "      <td>2018-09-20</td>\n",
              "      <td>00007d2de826758b65a93dd24ce629ed66842531df6699...</td>\n",
              "      <td>685687003</td>\n",
              "      <td>0.016932</td>\n",
              "      <td>2</td>\n",
              "    </tr>\n",
              "  </tbody>\n",
              "</table>\n",
              "</div>"
            ],
            "text/plain": [
              "        t_dat                                        customer_id  article_id  \\\n",
              "0  2018-09-20  000058a12d5b43e67d225668fa1f8d618c13dc232df0ca...   663713001   \n",
              "1  2018-09-20  000058a12d5b43e67d225668fa1f8d618c13dc232df0ca...   541518023   \n",
              "2  2018-09-20  00007d2de826758b65a93dd24ce629ed66842531df6699...   505221004   \n",
              "3  2018-09-20  00007d2de826758b65a93dd24ce629ed66842531df6699...   685687003   \n",
              "\n",
              "      price  sales_channel_id  \n",
              "0  0.050831                 2  \n",
              "1  0.030492                 2  \n",
              "2  0.015237                 2  \n",
              "3  0.016932                 2  "
            ]
          },
          "execution_count": 23,
          "metadata": {},
          "output_type": "execute_result"
        }
      ],
      "source": [
        "transactions_df.head(4)"
      ]
    },
    {
      "cell_type": "code",
      "execution_count": 9,
      "metadata": {},
      "outputs": [
        {
          "name": "stdout",
          "output_type": "stream",
          "text": [
            "<class 'pandas.core.frame.DataFrame'>\n",
            "RangeIndex: 31788324 entries, 0 to 31788323\n",
            "Data columns (total 5 columns):\n",
            " #   Column            Dtype  \n",
            "---  ------            -----  \n",
            " 0   t_dat             object \n",
            " 1   customer_id       object \n",
            " 2   article_id        int64  \n",
            " 3   price             float64\n",
            " 4   sales_channel_id  int64  \n",
            "dtypes: float64(1), int64(2), object(2)\n",
            "memory usage: 1.2+ GB\n"
          ]
        }
      ],
      "source": [
        "transactions_df.info()"
      ]
    },
    {
      "attachments": {},
      "cell_type": "markdown",
      "metadata": {
        "id": "RWjXKYBcczB5"
      },
      "source": [
        "Changing t_dat to datetime dtype and changing column name to date"
      ]
    },
    {
      "cell_type": "code",
      "execution_count": 24,
      "metadata": {},
      "outputs": [],
      "source": [
        "transactions_df['t_dat']= pd.to_datetime(transactions_df['t_dat'])\n",
        "transactions_df.rename(columns = {'t_dat':'date'}, inplace = True)  "
      ]
    },
    {
      "cell_type": "code",
      "execution_count": 25,
      "metadata": {},
      "outputs": [
        {
          "name": "stdout",
          "output_type": "stream",
          "text": [
            "<class 'pandas.core.frame.DataFrame'>\n",
            "RangeIndex: 31788324 entries, 0 to 31788323\n",
            "Data columns (total 5 columns):\n",
            " #   Column            Dtype         \n",
            "---  ------            -----         \n",
            " 0   date              datetime64[ns]\n",
            " 1   customer_id       object        \n",
            " 2   article_id        int64         \n",
            " 3   price             float64       \n",
            " 4   sales_channel_id  int64         \n",
            "dtypes: datetime64[ns](1), float64(1), int64(2), object(1)\n",
            "memory usage: 1.2+ GB\n"
          ]
        }
      ],
      "source": [
        "transactions_df.info()"
      ]
    },
    {
      "cell_type": "code",
      "execution_count": 26,
      "metadata": {},
      "outputs": [
        {
          "data": {
            "text/html": [
              "<div>\n",
              "<style scoped>\n",
              "    .dataframe tbody tr th:only-of-type {\n",
              "        vertical-align: middle;\n",
              "    }\n",
              "\n",
              "    .dataframe tbody tr th {\n",
              "        vertical-align: top;\n",
              "    }\n",
              "\n",
              "    .dataframe thead th {\n",
              "        text-align: right;\n",
              "    }\n",
              "</style>\n",
              "<table border=\"1\" class=\"dataframe\">\n",
              "  <thead>\n",
              "    <tr style=\"text-align: right;\">\n",
              "      <th></th>\n",
              "      <th>date</th>\n",
              "      <th>customer_id</th>\n",
              "      <th>article_id</th>\n",
              "      <th>price</th>\n",
              "      <th>sales_channel_id</th>\n",
              "    </tr>\n",
              "  </thead>\n",
              "  <tbody>\n",
              "    <tr>\n",
              "      <th>0</th>\n",
              "      <td>2018-09-20</td>\n",
              "      <td>000058a12d5b43e67d225668fa1f8d618c13dc232df0ca...</td>\n",
              "      <td>663713001</td>\n",
              "      <td>0.050831</td>\n",
              "      <td>2</td>\n",
              "    </tr>\n",
              "    <tr>\n",
              "      <th>1</th>\n",
              "      <td>2018-09-20</td>\n",
              "      <td>000058a12d5b43e67d225668fa1f8d618c13dc232df0ca...</td>\n",
              "      <td>541518023</td>\n",
              "      <td>0.030492</td>\n",
              "      <td>2</td>\n",
              "    </tr>\n",
              "    <tr>\n",
              "      <th>2</th>\n",
              "      <td>2018-09-20</td>\n",
              "      <td>00007d2de826758b65a93dd24ce629ed66842531df6699...</td>\n",
              "      <td>505221004</td>\n",
              "      <td>0.015237</td>\n",
              "      <td>2</td>\n",
              "    </tr>\n",
              "    <tr>\n",
              "      <th>3</th>\n",
              "      <td>2018-09-20</td>\n",
              "      <td>00007d2de826758b65a93dd24ce629ed66842531df6699...</td>\n",
              "      <td>685687003</td>\n",
              "      <td>0.016932</td>\n",
              "      <td>2</td>\n",
              "    </tr>\n",
              "  </tbody>\n",
              "</table>\n",
              "</div>"
            ],
            "text/plain": [
              "        date                                        customer_id  article_id  \\\n",
              "0 2018-09-20  000058a12d5b43e67d225668fa1f8d618c13dc232df0ca...   663713001   \n",
              "1 2018-09-20  000058a12d5b43e67d225668fa1f8d618c13dc232df0ca...   541518023   \n",
              "2 2018-09-20  00007d2de826758b65a93dd24ce629ed66842531df6699...   505221004   \n",
              "3 2018-09-20  00007d2de826758b65a93dd24ce629ed66842531df6699...   685687003   \n",
              "\n",
              "      price  sales_channel_id  \n",
              "0  0.050831                 2  \n",
              "1  0.030492                 2  \n",
              "2  0.015237                 2  \n",
              "3  0.016932                 2  "
            ]
          },
          "execution_count": 26,
          "metadata": {},
          "output_type": "execute_result"
        }
      ],
      "source": [
        "transactions_df.head(4)"
      ]
    },
    {
      "cell_type": "code",
      "execution_count": 13,
      "metadata": {},
      "outputs": [
        {
          "data": {
            "text/plain": [
              "31788324"
            ]
          },
          "execution_count": 13,
          "metadata": {},
          "output_type": "execute_result"
        }
      ],
      "source": [
        "transactions_df.to_sql(\n",
        "    con = conn, name = \"transactions\", if_exists = \"replace\")"
      ]
    },
    {
      "cell_type": "code",
      "execution_count": 35,
      "metadata": {},
      "outputs": [
        {
          "name": "stdout",
          "output_type": "stream",
          "text": [
            "('KPI',)\n",
            "('KPI_age',)\n",
            "('KPI_date',)\n",
            "('KPI_product_group',)\n",
            "('KPI_saleschannel',)\n",
            "('articles',)\n",
            "('customers',)\n",
            "('transactions',)\n"
          ]
        }
      ],
      "source": [
        "result = conn.execute(\"SHOW TABLES;\").fetchall()\n",
        "for r in result:\n",
        "    print(r)\n",
        "if not result:\n",
        "  print(\"No tables in the DATABASE\")"
      ]
    },
    {
      "cell_type": "code",
      "execution_count": 27,
      "metadata": {},
      "outputs": [],
      "source": [
        "transactionsnarticles_df = pd.merge(transactions_df, articles_df, on='article_id', how='left')"
      ]
    },
    {
      "cell_type": "code",
      "execution_count": 28,
      "metadata": {},
      "outputs": [
        {
          "data": {
            "text/html": [
              "<div>\n",
              "<style scoped>\n",
              "    .dataframe tbody tr th:only-of-type {\n",
              "        vertical-align: middle;\n",
              "    }\n",
              "\n",
              "    .dataframe tbody tr th {\n",
              "        vertical-align: top;\n",
              "    }\n",
              "\n",
              "    .dataframe thead th {\n",
              "        text-align: right;\n",
              "    }\n",
              "</style>\n",
              "<table border=\"1\" class=\"dataframe\">\n",
              "  <thead>\n",
              "    <tr style=\"text-align: right;\">\n",
              "      <th></th>\n",
              "      <th>date</th>\n",
              "      <th>customer_id</th>\n",
              "      <th>article_id</th>\n",
              "      <th>price</th>\n",
              "      <th>sales_channel_id</th>\n",
              "      <th>product_code</th>\n",
              "      <th>prod_name</th>\n",
              "      <th>product_type_no</th>\n",
              "      <th>product_type_name</th>\n",
              "      <th>product_group_name</th>\n",
              "      <th>...</th>\n",
              "      <th>department_name</th>\n",
              "      <th>index_code</th>\n",
              "      <th>index_name</th>\n",
              "      <th>index_group_no</th>\n",
              "      <th>index_group_name</th>\n",
              "      <th>section_no</th>\n",
              "      <th>section_name</th>\n",
              "      <th>garment_group_no</th>\n",
              "      <th>garment_group_name</th>\n",
              "      <th>detail_desc</th>\n",
              "    </tr>\n",
              "  </thead>\n",
              "  <tbody>\n",
              "    <tr>\n",
              "      <th>0</th>\n",
              "      <td>2018-09-20</td>\n",
              "      <td>000058a12d5b43e67d225668fa1f8d618c13dc232df0ca...</td>\n",
              "      <td>663713001</td>\n",
              "      <td>0.050831</td>\n",
              "      <td>2</td>\n",
              "      <td>663713</td>\n",
              "      <td>Atlanta Push Body Harlow</td>\n",
              "      <td>283</td>\n",
              "      <td>Underwear body</td>\n",
              "      <td>Underwear</td>\n",
              "      <td>...</td>\n",
              "      <td>Expressive Lingerie</td>\n",
              "      <td>B</td>\n",
              "      <td>Lingeries/Tights</td>\n",
              "      <td>1</td>\n",
              "      <td>Ladieswear</td>\n",
              "      <td>61</td>\n",
              "      <td>Womens Lingerie</td>\n",
              "      <td>1017</td>\n",
              "      <td>Under-, Nightwear</td>\n",
              "      <td>Lace push-up body with underwired, moulded, pa...</td>\n",
              "    </tr>\n",
              "    <tr>\n",
              "      <th>1</th>\n",
              "      <td>2018-09-20</td>\n",
              "      <td>000058a12d5b43e67d225668fa1f8d618c13dc232df0ca...</td>\n",
              "      <td>541518023</td>\n",
              "      <td>0.030492</td>\n",
              "      <td>2</td>\n",
              "      <td>541518</td>\n",
              "      <td>Rae Push (Melbourne) 2p</td>\n",
              "      <td>306</td>\n",
              "      <td>Bra</td>\n",
              "      <td>Underwear</td>\n",
              "      <td>...</td>\n",
              "      <td>Casual Lingerie</td>\n",
              "      <td>B</td>\n",
              "      <td>Lingeries/Tights</td>\n",
              "      <td>1</td>\n",
              "      <td>Ladieswear</td>\n",
              "      <td>61</td>\n",
              "      <td>Womens Lingerie</td>\n",
              "      <td>1017</td>\n",
              "      <td>Under-, Nightwear</td>\n",
              "      <td>Lace push-up bras with underwired, moulded, pa...</td>\n",
              "    </tr>\n",
              "    <tr>\n",
              "      <th>2</th>\n",
              "      <td>2018-09-20</td>\n",
              "      <td>00007d2de826758b65a93dd24ce629ed66842531df6699...</td>\n",
              "      <td>505221004</td>\n",
              "      <td>0.015237</td>\n",
              "      <td>2</td>\n",
              "      <td>505221</td>\n",
              "      <td>Inca Jumper</td>\n",
              "      <td>252</td>\n",
              "      <td>Sweater</td>\n",
              "      <td>Garment Upper body</td>\n",
              "      <td>...</td>\n",
              "      <td>Tops Knitwear DS</td>\n",
              "      <td>D</td>\n",
              "      <td>Divided</td>\n",
              "      <td>2</td>\n",
              "      <td>Divided</td>\n",
              "      <td>58</td>\n",
              "      <td>Divided Selected</td>\n",
              "      <td>1003</td>\n",
              "      <td>Knitwear</td>\n",
              "      <td>Jumper in rib-knit cotton with hard-worn detai...</td>\n",
              "    </tr>\n",
              "    <tr>\n",
              "      <th>3</th>\n",
              "      <td>2018-09-20</td>\n",
              "      <td>00007d2de826758b65a93dd24ce629ed66842531df6699...</td>\n",
              "      <td>685687003</td>\n",
              "      <td>0.016932</td>\n",
              "      <td>2</td>\n",
              "      <td>685687</td>\n",
              "      <td>W YODA KNIT OL OFFER</td>\n",
              "      <td>252</td>\n",
              "      <td>Sweater</td>\n",
              "      <td>Garment Upper body</td>\n",
              "      <td>...</td>\n",
              "      <td>Campaigns</td>\n",
              "      <td>A</td>\n",
              "      <td>Ladieswear</td>\n",
              "      <td>1</td>\n",
              "      <td>Ladieswear</td>\n",
              "      <td>15</td>\n",
              "      <td>Womens Everyday Collection</td>\n",
              "      <td>1023</td>\n",
              "      <td>Special Offers</td>\n",
              "      <td>V-neck knitted jumper with long sleeves and ri...</td>\n",
              "    </tr>\n",
              "  </tbody>\n",
              "</table>\n",
              "<p>4 rows × 29 columns</p>\n",
              "</div>"
            ],
            "text/plain": [
              "        date                                        customer_id  article_id  \\\n",
              "0 2018-09-20  000058a12d5b43e67d225668fa1f8d618c13dc232df0ca...   663713001   \n",
              "1 2018-09-20  000058a12d5b43e67d225668fa1f8d618c13dc232df0ca...   541518023   \n",
              "2 2018-09-20  00007d2de826758b65a93dd24ce629ed66842531df6699...   505221004   \n",
              "3 2018-09-20  00007d2de826758b65a93dd24ce629ed66842531df6699...   685687003   \n",
              "\n",
              "      price  sales_channel_id  product_code                 prod_name  \\\n",
              "0  0.050831                 2        663713  Atlanta Push Body Harlow   \n",
              "1  0.030492                 2        541518   Rae Push (Melbourne) 2p   \n",
              "2  0.015237                 2        505221               Inca Jumper   \n",
              "3  0.016932                 2        685687      W YODA KNIT OL OFFER   \n",
              "\n",
              "   product_type_no product_type_name  product_group_name  ...  \\\n",
              "0              283    Underwear body           Underwear  ...   \n",
              "1              306               Bra           Underwear  ...   \n",
              "2              252           Sweater  Garment Upper body  ...   \n",
              "3              252           Sweater  Garment Upper body  ...   \n",
              "\n",
              "       department_name index_code        index_name index_group_no  \\\n",
              "0  Expressive Lingerie          B  Lingeries/Tights              1   \n",
              "1      Casual Lingerie          B  Lingeries/Tights              1   \n",
              "2     Tops Knitwear DS          D           Divided              2   \n",
              "3            Campaigns          A        Ladieswear              1   \n",
              "\n",
              "   index_group_name section_no                section_name garment_group_no  \\\n",
              "0        Ladieswear         61             Womens Lingerie             1017   \n",
              "1        Ladieswear         61             Womens Lingerie             1017   \n",
              "2           Divided         58            Divided Selected             1003   \n",
              "3        Ladieswear         15  Womens Everyday Collection             1023   \n",
              "\n",
              "   garment_group_name                                        detail_desc  \n",
              "0   Under-, Nightwear  Lace push-up body with underwired, moulded, pa...  \n",
              "1   Under-, Nightwear  Lace push-up bras with underwired, moulded, pa...  \n",
              "2            Knitwear  Jumper in rib-knit cotton with hard-worn detai...  \n",
              "3      Special Offers  V-neck knitted jumper with long sleeves and ri...  \n",
              "\n",
              "[4 rows x 29 columns]"
            ]
          },
          "execution_count": 28,
          "metadata": {},
          "output_type": "execute_result"
        }
      ],
      "source": [
        "transactionsnarticles_df.head(4)    "
      ]
    },
    {
      "cell_type": "code",
      "execution_count": 41,
      "metadata": {},
      "outputs": [
        {
          "name": "stdout",
          "output_type": "stream",
          "text": [
            "<class 'pandas.core.frame.DataFrame'>\n",
            "Int64Index: 31788324 entries, 0 to 31788323\n",
            "Data columns (total 29 columns):\n",
            " #   Column                        Dtype         \n",
            "---  ------                        -----         \n",
            " 0   date                          datetime64[ns]\n",
            " 1   customer_id                   object        \n",
            " 2   article_id                    int64         \n",
            " 3   price                         float64       \n",
            " 4   sales_channel_id              int64         \n",
            " 5   product_code                  int64         \n",
            " 6   prod_name                     object        \n",
            " 7   product_type_no               int64         \n",
            " 8   product_type_name             object        \n",
            " 9   product_group_name            object        \n",
            " 10  graphical_appearance_no       int64         \n",
            " 11  graphical_appearance_name     object        \n",
            " 12  colour_group_code             int64         \n",
            " 13  colour_group_name             object        \n",
            " 14  perceived_colour_value_id     int64         \n",
            " 15  perceived_colour_value_name   object        \n",
            " 16  perceived_colour_master_id    int64         \n",
            " 17  perceived_colour_master_name  object        \n",
            " 18  department_no                 int64         \n",
            " 19  department_name               object        \n",
            " 20  index_code                    object        \n",
            " 21  index_name                    object        \n",
            " 22  index_group_no                int64         \n",
            " 23  index_group_name              object        \n",
            " 24  section_no                    int64         \n",
            " 25  section_name                  object        \n",
            " 26  garment_group_no              int64         \n",
            " 27  garment_group_name            object        \n",
            " 28  detail_desc                   object        \n",
            "dtypes: datetime64[ns](1), float64(1), int64(12), object(15)\n",
            "memory usage: 7.1+ GB\n"
          ]
        }
      ],
      "source": [
        "transactionsnarticles_df.info()"
      ]
    },
    {
      "cell_type": "code",
      "execution_count": 29,
      "metadata": {},
      "outputs": [],
      "source": [
        "KPI_df = transactionsnarticles_df[['date', 'customer_id', 'price', 'sales_channel_id', 'product_group_name', 'section_name']].copy()"
      ]
    },
    {
      "cell_type": "code",
      "execution_count": 30,
      "metadata": {},
      "outputs": [
        {
          "name": "stdout",
          "output_type": "stream",
          "text": [
            "<class 'pandas.core.frame.DataFrame'>\n",
            "Int64Index: 31788324 entries, 0 to 31788323\n",
            "Data columns (total 6 columns):\n",
            " #   Column              Dtype         \n",
            "---  ------              -----         \n",
            " 0   date                datetime64[ns]\n",
            " 1   customer_id         object        \n",
            " 2   price               float64       \n",
            " 3   sales_channel_id    int64         \n",
            " 4   product_group_name  object        \n",
            " 5   section_name        object        \n",
            "dtypes: datetime64[ns](1), float64(1), int64(1), object(3)\n",
            "memory usage: 1.7+ GB\n"
          ]
        }
      ],
      "source": [
        "KPI_df.info()"
      ]
    },
    {
      "cell_type": "code",
      "execution_count": 31,
      "metadata": {},
      "outputs": [],
      "source": [
        "KPI_df = pd.merge(KPI_df, customerclean_df[['customer_id', 'age', 'club_member_status']], on='customer_id')"
      ]
    },
    {
      "cell_type": "code",
      "execution_count": 32,
      "metadata": {},
      "outputs": [
        {
          "data": {
            "text/html": [
              "<div>\n",
              "<style scoped>\n",
              "    .dataframe tbody tr th:only-of-type {\n",
              "        vertical-align: middle;\n",
              "    }\n",
              "\n",
              "    .dataframe tbody tr th {\n",
              "        vertical-align: top;\n",
              "    }\n",
              "\n",
              "    .dataframe thead th {\n",
              "        text-align: right;\n",
              "    }\n",
              "</style>\n",
              "<table border=\"1\" class=\"dataframe\">\n",
              "  <thead>\n",
              "    <tr style=\"text-align: right;\">\n",
              "      <th></th>\n",
              "      <th>date</th>\n",
              "      <th>customer_id</th>\n",
              "      <th>price</th>\n",
              "      <th>sales_channel_id</th>\n",
              "      <th>product_group_name</th>\n",
              "      <th>section_name</th>\n",
              "      <th>age</th>\n",
              "      <th>club_member_status</th>\n",
              "    </tr>\n",
              "  </thead>\n",
              "  <tbody>\n",
              "    <tr>\n",
              "      <th>0</th>\n",
              "      <td>2018-09-20</td>\n",
              "      <td>00007d2de826758b65a93dd24ce629ed66842531df6699...</td>\n",
              "      <td>0.015237</td>\n",
              "      <td>2</td>\n",
              "      <td>Garment Upper body</td>\n",
              "      <td>Divided Selected</td>\n",
              "      <td>32</td>\n",
              "      <td>ACTIVE</td>\n",
              "    </tr>\n",
              "    <tr>\n",
              "      <th>1</th>\n",
              "      <td>2018-09-20</td>\n",
              "      <td>00007d2de826758b65a93dd24ce629ed66842531df6699...</td>\n",
              "      <td>0.016932</td>\n",
              "      <td>2</td>\n",
              "      <td>Garment Upper body</td>\n",
              "      <td>Womens Everyday Collection</td>\n",
              "      <td>32</td>\n",
              "      <td>ACTIVE</td>\n",
              "    </tr>\n",
              "    <tr>\n",
              "      <th>2</th>\n",
              "      <td>2018-09-20</td>\n",
              "      <td>00007d2de826758b65a93dd24ce629ed66842531df6699...</td>\n",
              "      <td>0.016932</td>\n",
              "      <td>2</td>\n",
              "      <td>Garment Upper body</td>\n",
              "      <td>Womens Everyday Collection</td>\n",
              "      <td>32</td>\n",
              "      <td>ACTIVE</td>\n",
              "    </tr>\n",
              "    <tr>\n",
              "      <th>3</th>\n",
              "      <td>2018-09-20</td>\n",
              "      <td>00007d2de826758b65a93dd24ce629ed66842531df6699...</td>\n",
              "      <td>0.016932</td>\n",
              "      <td>2</td>\n",
              "      <td>Garment Upper body</td>\n",
              "      <td>Womens Everyday Collection</td>\n",
              "      <td>32</td>\n",
              "      <td>ACTIVE</td>\n",
              "    </tr>\n",
              "  </tbody>\n",
              "</table>\n",
              "</div>"
            ],
            "text/plain": [
              "        date                                        customer_id     price  \\\n",
              "0 2018-09-20  00007d2de826758b65a93dd24ce629ed66842531df6699...  0.015237   \n",
              "1 2018-09-20  00007d2de826758b65a93dd24ce629ed66842531df6699...  0.016932   \n",
              "2 2018-09-20  00007d2de826758b65a93dd24ce629ed66842531df6699...  0.016932   \n",
              "3 2018-09-20  00007d2de826758b65a93dd24ce629ed66842531df6699...  0.016932   \n",
              "\n",
              "   sales_channel_id  product_group_name                section_name  age  \\\n",
              "0                 2  Garment Upper body            Divided Selected   32   \n",
              "1                 2  Garment Upper body  Womens Everyday Collection   32   \n",
              "2                 2  Garment Upper body  Womens Everyday Collection   32   \n",
              "3                 2  Garment Upper body  Womens Everyday Collection   32   \n",
              "\n",
              "  club_member_status  \n",
              "0             ACTIVE  \n",
              "1             ACTIVE  \n",
              "2             ACTIVE  \n",
              "3             ACTIVE  "
            ]
          },
          "execution_count": 32,
          "metadata": {},
          "output_type": "execute_result"
        }
      ],
      "source": [
        "KPI_df.head(4)"
      ]
    },
    {
      "cell_type": "code",
      "execution_count": 56,
      "metadata": {},
      "outputs": [],
      "source": [
        "KPI_date = KPI_df.groupby(KPI_df['date'].dt.day_name())['price'].agg([('revenue', 'sum')]).reset_index()\n",
        "KPI_date['revenue'] = KPI_date['revenue'].round(2)"
      ]
    },
    {
      "cell_type": "code",
      "execution_count": 57,
      "metadata": {},
      "outputs": [
        {
          "name": "stdout",
          "output_type": "stream",
          "text": [
            "        date   revenue\n",
            "0     Friday  41825.01\n",
            "1     Monday  36012.96\n",
            "2   Saturday  43881.20\n",
            "3     Sunday  36318.46\n",
            "4   Thursday  43812.56\n",
            "5    Tuesday  37138.85\n",
            "6  Wednesday  43215.68\n"
          ]
        }
      ],
      "source": [
        "print(KPI_date)\n"
      ]
    },
    {
      "cell_type": "code",
      "execution_count": 58,
      "metadata": {},
      "outputs": [
        {
          "name": "stdout",
          "output_type": "stream",
          "text": [
            "     age  revenue\n",
            "0   16.0    11.91\n",
            "1   17.0   391.31\n",
            "2   18.0  1470.29\n",
            "3   19.0  3926.14\n",
            "4   20.0  7083.21\n",
            "..   ...      ...\n",
            "76  94.0     0.99\n",
            "77  95.0     1.28\n",
            "78  97.0     0.76\n",
            "79  98.0     0.27\n",
            "80  99.0     1.60\n",
            "\n",
            "[81 rows x 2 columns]\n"
          ]
        }
      ],
      "source": [
        "KPI_age = KPI_df.groupby('age')['price'].agg([('revenue', 'sum')]).reset_index()\n",
        "KPI_age['revenue'] = KPI_age['revenue'].round(2)\n",
        "print(KPI_age)"
      ]
    },
    {
      "cell_type": "code",
      "execution_count": 59,
      "metadata": {},
      "outputs": [
        {
          "name": "stdout",
          "output_type": "stream",
          "text": [
            "  sales_channel_id    revenue\n",
            "0          offline  211165.49\n",
            "1           online   71039.22\n"
          ]
        }
      ],
      "source": [
        "KPI_df['sales_channel_id'] = KPI_df['sales_channel_id'].map({1: 'online', 2: 'offline'})\n",
        "KPI_saleschannel = KPI_df.groupby('sales_channel_id')['price'].agg([('revenue', 'sum')]).reset_index()\n",
        "KPI_saleschannel['revenue'] = KPI_saleschannel['revenue'].round(2)\n",
        "print(KPI_saleschannel)"
      ]
    },
    {
      "cell_type": "code",
      "execution_count": 1,
      "metadata": {},
      "outputs": [
        {
          "ename": "NameError",
          "evalue": "name 'KPI_df' is not defined",
          "output_type": "error",
          "traceback": [
            "\u001b[1;31m---------------------------------------------------------------------------\u001b[0m",
            "\u001b[1;31mNameError\u001b[0m                                 Traceback (most recent call last)",
            "Cell \u001b[1;32mIn[1], line 1\u001b[0m\n\u001b[1;32m----> 1\u001b[0m KPI_product_group \u001b[39m=\u001b[39m KPI_df\u001b[39m.\u001b[39mgroupby(\u001b[39m'\u001b[39m\u001b[39mproduct_group_name\u001b[39m\u001b[39m'\u001b[39m)[\u001b[39m'\u001b[39m\u001b[39mprice\u001b[39m\u001b[39m'\u001b[39m]\u001b[39m.\u001b[39magg([(\u001b[39m'\u001b[39m\u001b[39mrevenue\u001b[39m\u001b[39m'\u001b[39m, \u001b[39m'\u001b[39m\u001b[39msum\u001b[39m\u001b[39m'\u001b[39m)])\u001b[39m.\u001b[39mreset_index()\n\u001b[0;32m      2\u001b[0m KPI_product_group[\u001b[39m'\u001b[39m\u001b[39mrevenue\u001b[39m\u001b[39m'\u001b[39m] \u001b[39m=\u001b[39m KPI_product_group[\u001b[39m'\u001b[39m\u001b[39mrevenue\u001b[39m\u001b[39m'\u001b[39m]\u001b[39m.\u001b[39mround(\u001b[39m2\u001b[39m)\n\u001b[0;32m      3\u001b[0m \u001b[39mprint\u001b[39m(KPI_product_group)\n",
            "\u001b[1;31mNameError\u001b[0m: name 'KPI_df' is not defined"
          ]
        }
      ],
      "source": [
        "KPI_product_group = KPI_df.groupby('product_group_name')['price'].agg([('revenue', 'sum')]).reset_index()\n",
        "KPI_product_group['revenue'] = KPI_product_group['revenue'].round(2)\n",
        "print(KPI_product_group)"
      ]
    },
    {
      "cell_type": "code",
      "execution_count": 33,
      "metadata": {},
      "outputs": [
        {
          "data": {
            "text/plain": [
              "10228628"
            ]
          },
          "execution_count": 33,
          "metadata": {},
          "output_type": "execute_result"
        }
      ],
      "source": [
        "KPI_df.to_sql(\n",
        "    con = conn, name = \"KPI\", if_exists = \"replace\")"
      ]
    },
    {
      "cell_type": "code",
      "execution_count": 63,
      "metadata": {},
      "outputs": [
        {
          "data": {
            "text/plain": [
              "81"
            ]
          },
          "execution_count": 63,
          "metadata": {},
          "output_type": "execute_result"
        }
      ],
      "source": [
        "KPI_age.to_sql(\n",
        "    con = conn, name = \"KPI_age\", if_exists = \"replace\")"
      ]
    },
    {
      "cell_type": "code",
      "execution_count": 64,
      "metadata": {},
      "outputs": [
        {
          "data": {
            "text/plain": [
              "7"
            ]
          },
          "execution_count": 64,
          "metadata": {},
          "output_type": "execute_result"
        }
      ],
      "source": [
        "KPI_date.to_sql(\n",
        "    con = conn, name = \"KPI_date\", if_exists = \"replace\")"
      ]
    },
    {
      "cell_type": "code",
      "execution_count": 65,
      "metadata": {},
      "outputs": [
        {
          "data": {
            "text/plain": [
              "19"
            ]
          },
          "execution_count": 65,
          "metadata": {},
          "output_type": "execute_result"
        }
      ],
      "source": [
        "\n",
        "KPI_product_group.to_sql(\n",
        "    con = conn, name = \"KPI_product_group\", if_exists = \"replace\")\n"
      ]
    },
    {
      "cell_type": "code",
      "execution_count": 66,
      "metadata": {},
      "outputs": [
        {
          "data": {
            "text/plain": [
              "2"
            ]
          },
          "execution_count": 66,
          "metadata": {},
          "output_type": "execute_result"
        }
      ],
      "source": [
        "\n",
        "KPI_saleschannel.to_sql(\n",
        "    con = conn, name = \"KPI_saleschannel\", if_exists = \"replace\")\n"
      ]
    }
  ],
  "metadata": {
    "colab": {
      "provenance": []
    },
    "kernelspec": {
      "display_name": "Python 3",
      "name": "python3"
    },
    "language_info": {
      "codemirror_mode": {
        "name": "ipython",
        "version": 3
      },
      "file_extension": ".py",
      "mimetype": "text/x-python",
      "name": "python",
      "nbconvert_exporter": "python",
      "pygments_lexer": "ipython3",
      "version": "3.9.12"
    }
  },
  "nbformat": 4,
  "nbformat_minor": 0
}
